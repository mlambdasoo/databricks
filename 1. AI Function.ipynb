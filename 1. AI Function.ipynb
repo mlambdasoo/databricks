{
 "cells": [
  {
   "cell_type": "markdown",
   "metadata": {
    "application/vnd.databricks.v1+cell": {
     "cellMetadata": {},
     "inputWidgets": {},
     "nuid": "813d674e-68ba-432c-8ead-5d1af41eb5dd",
     "showTitle": false,
     "tableResultSettingsMap": {},
     "title": ""
    }
   },
   "source": [
    "dfdfasdf"
   ]
  },
  {
   "cell_type": "markdown",
   "metadata": {
    "application/vnd.databricks.v1+cell": {
     "cellMetadata": {},
     "inputWidgets": {},
     "nuid": "3c1adb03-86ff-42fd-85a8-b8bd1d3cfb50",
     "showTitle": false,
     "tableResultSettingsMap": {},
     "title": ""
    }
   },
   "source": [
    "# AI Function\n",
    "\n",
    "Databricks에 저장된 데이터에 AI를 적용 할 수 있는 내장 함수이며, Databricks SQL, Notebook, Lakeflow, workflow 등 어디서든 실행 가능\n",
    "\n",
    "General-Purpose function과 Task Specific functions 크게 2 유형으로 분류\n",
    "\n",
    "General-Purpose Function\n",
    "- ai_query\n",
    "\n",
    "Task-Specific Function\n",
    "- ai_analyze_sentiment\t텍스트 감정 분석\n",
    "- ai_classify\t텍스트를 제공한 라벨에 따라 분류\n",
    "- ai_extract\t지정된 엔티티 추출\n",
    "- ai_fix_grammar\t문법 오류 수정\n",
    "- ai_gen\t사용자 프롬프트에 대한 응답 생성\n",
    "- ai_mask\t지정된 엔티티 마스킹\n",
    "- ai_parse_document (Beta)\t비정형 문서에서 구조적 콘텐츠 추출\n",
    "- ai_similarity\t두 문자열의 의미적 유사도 계산\n",
    "- ai_summarize\t텍스트 요약\n",
    "- ai_translate\t텍스트 번역\n",
    "- ai_forecast\t시계열 데이터 예측\n",
    "- vector_search\tMosaic AI 벡터 검색 인덱스 조회\n"
   ]
  },
  {
   "cell_type": "markdown",
   "metadata": {
    "application/vnd.databricks.v1+cell": {
     "cellMetadata": {},
     "inputWidgets": {},
     "nuid": "d0c7cfbb-4913-4af2-9dc5-d8b3434cdccb",
     "showTitle": false,
     "tableResultSettingsMap": {},
     "title": ""
    }
   },
   "source": [
    "## 일반 용도의 AI Function\n",
    "\n",
    "- UDF에서 활용 가능\n",
    "- LDP에서 활용 가능하나 Table 속성 추가 필요\n",
    "- 전통적인 ML Model도 호출 가능\n",
    "- Custom Models과 External Models 사용은 Preview 기능\n",
    "- https://docs.databricks.com/aws/en/sql/language-manual/functions/ai_query#advanced "
   ]
  },
  {
   "cell_type": "code",
   "execution_count": 0,
   "metadata": {
    "application/vnd.databricks.v1+cell": {
     "cellMetadata": {
      "byteLimit": 2048000,
      "implicitDf": true,
      "rowLimit": 10000
     },
     "inputWidgets": {},
     "nuid": "e3cea153-9ad1-4ac7-bda3-af7ba0b14c1e",
     "showTitle": false,
     "tableResultSettingsMap": {},
     "title": ""
    }
   },
   "outputs": [],
   "source": [
    "%sql\n",
    "\n",
    "SELECT text, ai_query(\n",
    "    \"databricks-meta-llama-3-3-70b-instruct\",\n",
    "    \"주어진 텍스트를 종합적으로 요약하되, 핵심 요점과 주요 아이디어를 간결하게 다루고 관련 세부 사항과 예시를 유지하세요. 불필요한 반복이나 누락 없이 명확하고 정확하도록 하세요.\" || text,\n",
    "    modelParameters => named_struct('max_tokens', 100, 'temperature', 0.7)\n",
    ") AS summary\n",
    "FROM sudong.apjuice.g_manual;"
   ]
  },
  {
   "cell_type": "markdown",
   "metadata": {
    "application/vnd.databricks.v1+cell": {
     "cellMetadata": {},
     "inputWidgets": {},
     "nuid": "3013a3c3-d3c5-4de0-b9be-84da9607ef8a",
     "showTitle": false,
     "tableResultSettingsMap": {},
     "title": ""
    }
   },
   "source": [
    "## Task 기반 AI Function\n",
    "\n",
    "\n",
    "* 기본 모델: llama, gpt-oss를 기본으로 사용. 변경 될 수 있음\n",
    "* 한국의 경우 Cross Geography routing이 활성화된 경우 사용 가능\n",
    "* Compute 비용 + Batch Inference **비용**\n",
    "* Batch Inferencing사용 시 성능을 위해서 Runtime 15.4 ML LTS를 권고\n",
    "* ai_parse_document는 llama family 활용, AI agent Bricks enable 필요 (Severless 사용시 별도 조건이 있음))"
   ]
  },
  {
   "cell_type": "code",
   "execution_count": 0,
   "metadata": {
    "application/vnd.databricks.v1+cell": {
     "cellMetadata": {
      "byteLimit": 2048000,
      "implicitDf": true,
      "rowLimit": 10000
     },
     "inputWidgets": {},
     "nuid": "204753c9-6795-4a96-869a-4d32d717a0b2",
     "showTitle": true,
     "tableResultSettingsMap": {
      "0": {
       "dataGridStateBlob": "{\"version\":1,\"tableState\":{\"columnPinning\":{\"left\":[\"#row_number#\"],\"right\":[]},\"columnSizing\":{},\"columnVisibility\":{}},\"settings\":{\"columns\":{}},\"syncTimestamp\":1758436984767}",
       "filterBlob": null,
       "queryPlanFiltersBlob": null,
       "tableResultIndex": 0
      }
     },
     "title": "ai_analyze_sentiment"
    }
   },
   "outputs": [],
   "source": [
    "%sql\n",
    "select ai_analyze_sentiment(\"나는 행복해\");"
   ]
  },
  {
   "cell_type": "code",
   "execution_count": 0,
   "metadata": {
    "application/vnd.databricks.v1+cell": {
     "cellMetadata": {
      "byteLimit": 2048000,
      "implicitDf": true,
      "rowLimit": 10000
     },
     "inputWidgets": {},
     "nuid": "51b7122a-c803-4b77-96c8-22faea5b63f4",
     "showTitle": true,
     "tableResultSettingsMap": {
      "0": {
       "dataGridStateBlob": "{\"version\":1,\"tableState\":{\"columnPinning\":{\"left\":[\"#row_number#\"],\"right\":[]},\"columnSizing\":{},\"columnVisibility\":{}},\"settings\":{\"columns\":{}},\"syncTimestamp\":1758437038866}",
       "filterBlob": null,
       "queryPlanFiltersBlob": null,
       "tableResultIndex": 0
      }
     },
     "title": "ai_classify"
    }
   },
   "outputs": [],
   "source": [
    "%sql\n",
    "SELECT ai_classify(\"패스워드가 유출되었다.\", ARRAY(\"urgent\", \"not urgent\"));"
   ]
  },
  {
   "cell_type": "code",
   "execution_count": 0,
   "metadata": {
    "application/vnd.databricks.v1+cell": {
     "cellMetadata": {
      "byteLimit": 2048000,
      "implicitDf": true,
      "rowLimit": 10000
     },
     "inputWidgets": {},
     "nuid": "71045b21-130c-4c4b-bfa9-f203e480828f",
     "showTitle": true,
     "tableResultSettingsMap": {},
     "title": "ai_extract"
    }
   },
   "outputs": [],
   "source": [
    "%sql\n",
    "-- entity가 둘 이상인 경우 한개만 \n",
    "SELECT ai_extract(\n",
    "    '철수는 수원에서 살고 현대에서 일하고 있습니다. 철수의 email은 chulsu@example.com인데 10분 후에 메일이 올 것입니다.',\n",
    "    array('사람', '위치', '회사', '이메일', '시간')\n",
    "  );"
   ]
  },
  {
   "cell_type": "code",
   "execution_count": 0,
   "metadata": {
    "application/vnd.databricks.v1+cell": {
     "cellMetadata": {
      "byteLimit": 2048000,
      "implicitDf": true,
      "rowLimit": 10000
     },
     "inputWidgets": {},
     "nuid": "dceee0e9-1663-421a-bd0c-58315d869724",
     "showTitle": true,
     "tableResultSettingsMap": {},
     "title": "ai_fix_grammar"
    }
   },
   "outputs": [],
   "source": [
    "%sql\n",
    "SELECT ai_fix_grammar('나는 내일 ㅂ밟 먹었습니다');"
   ]
  },
  {
   "cell_type": "code",
   "execution_count": 0,
   "metadata": {
    "application/vnd.databricks.v1+cell": {
     "cellMetadata": {
      "byteLimit": 2048000,
      "implicitDf": true,
      "rowLimit": 10000
     },
     "inputWidgets": {},
     "nuid": "b0c69f94-b83f-4be6-bc01-ee2297a4a8d6",
     "showTitle": true,
     "tableResultSettingsMap": {
      "0": {
       "dataGridStateBlob": "{\"version\":1,\"tableState\":{\"columnPinning\":{\"left\":[\"#row_number#\"],\"right\":[]},\"columnSizing\":{},\"columnVisibility\":{}},\"settings\":{\"columns\":{}},\"syncTimestamp\":1758438336876}",
       "filterBlob": null,
       "queryPlanFiltersBlob": null,
       "tableResultIndex": 0
      }
     },
     "title": "ai_gen"
    }
   },
   "outputs": [],
   "source": [
    "%sql\n",
    "SELECT ai_gen('너는 Databricks 교육자야, Databricks AI 장점에 대해 말해야해');"
   ]
  },
  {
   "cell_type": "code",
   "execution_count": 0,
   "metadata": {
    "application/vnd.databricks.v1+cell": {
     "cellMetadata": {
      "byteLimit": 2048000,
      "implicitDf": true,
      "rowLimit": 10000
     },
     "inputWidgets": {},
     "nuid": "fe68d7fd-c8d4-4133-bf90-30829b4b3d5b",
     "showTitle": true,
     "tableResultSettingsMap": {},
     "title": "ai_mask"
    }
   },
   "outputs": [],
   "source": [
    "%sql\n",
    "SELECT ai_mask(\n",
    "    '영희는 서울에 살고 이메일은 yyyy@example.com',\n",
    "    array('사람', '이메일')\n",
    "  );"
   ]
  },
  {
   "cell_type": "code",
   "execution_count": 0,
   "metadata": {
    "application/vnd.databricks.v1+cell": {
     "cellMetadata": {
      "byteLimit": 2048000,
      "implicitDf": true,
      "rowLimit": 10000
     },
     "inputWidgets": {},
     "nuid": "0f68fdf3-736d-43ac-927c-2bd65d10381d",
     "showTitle": true,
     "tableResultSettingsMap": {},
     "title": "ai_parse_document (Beta)"
    }
   },
   "outputs": [],
   "source": [
    "%sql\n",
    "-- LLM 기반이므로 오류 가능성이 있음\n",
    "\n",
    "-- 고밀도/저해상도 문서 → 처리 지연 또는 일부 콘텐츠 무시 될 수 있음\n",
    "\n",
    "-- 지원하지 않는 입력 형식은 불가 (현재 PDF, JPG/JPEG, PNG만 지원)\n",
    "\n",
    "-- 사용되는 모델에 대한 커스터마이징 불가 및 별도의 커스텀 모델 사용 불가\n",
    "\n",
    "-- 이미지 처리시 한글, 일본어 인식 성능 제한\n",
    "\n",
    "-- 디지털 서명 포함 문서는 처리 정확도 떨어질 수 있음\n",
    "WITH corpus AS (\n",
    "  SELECT\n",
    "    path,\n",
    "    ai_parse_document(content) AS parsed\n",
    "  FROM\n",
    "    READ_FILES('/Volumes/sudong/genai/sample_image/apjuice_pdf/', format => 'binaryFile')\n",
    ")\n",
    "SELECT\n",
    "  path,\n",
    "  parsed:document:pages,\n",
    "  parsed:document:elements,\n",
    "  parsed:corrupted_data,\n",
    "  parsed:error_status,\n",
    "  parsed:metadata\n",
    "FROM corpus"
   ]
  },
  {
   "cell_type": "code",
   "execution_count": 0,
   "metadata": {
    "application/vnd.databricks.v1+cell": {
     "cellMetadata": {
      "byteLimit": 2048000,
      "implicitDf": true,
      "rowLimit": 10000
     },
     "inputWidgets": {},
     "nuid": "0d61a8a9-3321-4523-ba7d-1240ece0c69b",
     "showTitle": false,
     "tableResultSettingsMap": {},
     "title": ""
    }
   },
   "outputs": [],
   "source": [
    "%sql\n",
    "SELECT ai_similarity('안녕', '안녕하세요');"
   ]
  },
  {
   "cell_type": "code",
   "execution_count": 0,
   "metadata": {
    "application/vnd.databricks.v1+cell": {
     "cellMetadata": {
      "byteLimit": 2048000,
      "implicitDf": true,
      "rowLimit": 10000
     },
     "inputWidgets": {},
     "nuid": "daa8346c-da2d-4f64-aa7d-9fcdcc282c37",
     "showTitle": false,
     "tableResultSettingsMap": {
      "0": {
       "dataGridStateBlob": "{\"version\":1,\"tableState\":{\"columnPinning\":{\"left\":[\"#row_number#\"],\"right\":[]},\"columnSizing\":{},\"columnVisibility\":{}},\"settings\":{\"columns\":{}},\"syncTimestamp\":1758440300586}",
       "filterBlob": null,
       "queryPlanFiltersBlob": null,
       "tableResultIndex": 0
      }
     },
     "title": ""
    }
   },
   "outputs": [],
   "source": [
    "%sql\n",
    "SELECT ai_summarize(\n",
    "   '기상청은 전날 밤부터 이날 아침 사이 경기동부와 충청권내륙, 전라권내륙, 경북중·북부내륙, 경남서부내륙을 중심으로 짙은 안개가 끼는 곳이 있겠다고 예보했다.\n",
    " \n",
    "특히 오전까지 낮은 구름대가 유입되는 강원산지에는 가시거리 200m 미만의 짙은 안개가 끼는 곳이 있겠으니 교통안전에 각별히 유의해야겠다.\n",
    " \n",
    "이날 오전까지 강원영동에는 비가 내리겠다.\n",
    " \n",
    "밤부터 오는 22일 아침 사이에는 제주도에도 가끔 비가 내리겠다. 예상 강수량은 5~20㎜다.\n",
    " \n",
    "아침 최저기온은 13~20도, 낮 최고기온은 23~28도 사이를 오르내리겠다.\n",
    " \n",
    "주요 지역 아침 최저기온은 서울 16도, 인천 17도, 수원 16도, 춘천 14도, 강릉 17도, 청주 18도, 대전 17도, 전주 17도, 광주 18도, 대구 18도, 부산 20도, 제주 22도다.\n",
    " \n",
    "낮 최고기온은 서울 26도, 인천 26도, 수원 26도, 춘천 26도, 강릉 24도, 청주 27도, 대전 26도, 전주 27도, 광주 27도, 대구 26도, 부산 27도, 제주 27도다.\n",
    " \n",
    "미세먼지 농도는 전 권역이 좋음 수준으로 전망된다.',\n",
    "    100\n",
    "  );"
   ]
  },
  {
   "cell_type": "code",
   "execution_count": 0,
   "metadata": {
    "application/vnd.databricks.v1+cell": {
     "cellMetadata": {
      "byteLimit": 2048000,
      "implicitDf": true,
      "rowLimit": 10000
     },
     "inputWidgets": {},
     "nuid": "16a1f40e-5fac-4a56-b06e-bf807950eaa4",
     "showTitle": false,
     "tableResultSettingsMap": {},
     "title": ""
    }
   },
   "outputs": [],
   "source": [
    "%sql\n",
    "-- 한국어로 번역은 현재 지원되지 않음\n",
    "SELECT ai_translate('기상청은 일부 지역에 짙은 안개가 예보되었으며, 강원산지와 제주도에는 비가 내릴 것으로 예상된다. 아침 최저기온은 13~20도, 낮 최고기온은 23~28도 사이를 오르내릴 것으로 예상된다. 미세먼지 농도는 전 권역이 좋음 수준으로 전망된다.', 'en');"
   ]
  },
  {
   "cell_type": "code",
   "execution_count": 0,
   "metadata": {
    "application/vnd.databricks.v1+cell": {
     "cellMetadata": {
      "byteLimit": 2048000,
      "implicitDf": true,
      "rowLimit": 10000
     },
     "inputWidgets": {},
     "nuid": "8b96a280-dfd6-46d8-9daf-efbc24dd0d3c",
     "showTitle": true,
     "tableResultSettingsMap": {
      "0": {
       "dataGridStateBlob": "{\"version\":1,\"tableState\":{\"columnPinning\":{\"left\":[\"#row_number#\"],\"right\":[]},\"columnSizing\":{},\"columnVisibility\":{}},\"settings\":{\"columns\":{}},\"syncTimestamp\":1758440944084}",
       "filterBlob": null,
       "queryPlanFiltersBlob": null,
       "tableResultIndex": 0
      }
     },
     "title": "ai_forecast"
    }
   },
   "outputs": [],
   "source": [
    "%sql\n",
    "\n",
    "-- sql warehouse에서만 사용 가능\n",
    "-- Prophet과 유사한 모델 사용\n",
    "WITH aggregated AS (\n",
    "  SELECT\n",
    "    DATE(tpep_pickup_datetime) AS ds,\n",
    "    dropoff_zip,\n",
    "    SUM(fare_amount) AS revenue,\n",
    "    COUNT(*) AS n_trips\n",
    "  FROM samples.nyctaxi.trips\n",
    "  GROUP BY 1, 2\n",
    ")\n",
    "SELECT * FROM ai_forecast(\n",
    "  TABLE(aggregated),\n",
    "  horizon => '2016-03-31',\n",
    "  time_col => 'ds',\n",
    "  value_col => ARRAY('revenue', 'n_trips'),\n",
    "  group_col => 'dropoff_zip',\n",
    "  prediction_interval_width => 0.9,\n",
    "  parameters => '{\"global_floor\": 0}'\n",
    ") where revenue_forecast is not null;"
   ]
  },
  {
   "cell_type": "code",
   "execution_count": 0,
   "metadata": {
    "application/vnd.databricks.v1+cell": {
     "cellMetadata": {
      "byteLimit": 2048000,
      "rowLimit": 10000
     },
     "inputWidgets": {},
     "nuid": "2545cfcc-36c0-4381-a023-97e51d7e3fc5",
     "showTitle": false,
     "tableResultSettingsMap": {},
     "title": ""
    }
   },
   "outputs": [],
   "source": [
    "%sql\n",
    "-- Querying DIRECT_ACCESS index types are not supported.\n",
    "-- Input parameters filters_json or columns are not supported.\n",
    "-- Vector Search with num_results greater than 100 are not supported.\n",
    "-- provisioned throughput 미지원\n",
    "SELECT * FROM vector_search(\n",
    "  index => 'sudong.apjuice.g_manual_index',\n",
    "  query_text => '착즙 세척 장비 세척 방법',\n",
    "  query_type => 'HYBRID',\n",
    "  num_results => 3\n",
    ");"
   ]
  },
  {
   "cell_type": "code",
   "execution_count": 0,
   "metadata": {
    "application/vnd.databricks.v1+cell": {
     "cellMetadata": {},
     "inputWidgets": {},
     "nuid": "3899d1dc-6882-4a65-8764-c21ba9d955ff",
     "showTitle": false,
     "tableResultSettingsMap": {},
     "title": ""
    }
   },
   "outputs": [],
   "source": []
  }
 ],
 "metadata": {
  "application/vnd.databricks.v1+notebook": {
   "computePreferences": {
    "hardware": {
     "accelerator": null,
     "gpuPoolId": null,
     "memory": null
    }
   },
   "dashboards": [],
   "environmentMetadata": {
    "base_environment": "dbe_65bc13ea-276c-4905-a728-9fe2fb1780e2",
    "environment_version": "3"
   },
   "inputWidgetPreferences": null,
   "language": "python",
   "notebookMetadata": {
    "mostRecentlyExecutedCommandWithImplicitDF": {
     "commandId": 4640557381816703,
     "dataframes": [
      "_sqldf"
     ]
    },
    "pythonIndentUnit": 2
   },
   "notebookName": "1. AI Function",
   "widgets": {}
  },
  "language_info": {
   "name": "python"
  }
 },
 "nbformat": 4,
 "nbformat_minor": 0
}
